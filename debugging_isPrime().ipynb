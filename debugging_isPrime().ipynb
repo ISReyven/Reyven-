{
  "nbformat": 4,
  "nbformat_minor": 0,
  "metadata": {
    "colab": {
      "name": "debugging_isPrime().ipynb",
      "provenance": [],
      "include_colab_link": true
    },
    "kernelspec": {
      "name": "python3",
      "display_name": "Python 3"
    },
    "language_info": {
      "name": "python"
    }
  },
  "cells": [
    {
      "cell_type": "markdown",
      "metadata": {
        "id": "view-in-github",
        "colab_type": "text"
      },
      "source": [
        "<a href=\"https://colab.research.google.com/github/ISReyven/Reyven-/blob/main/debugging_isPrime().ipynb\" target=\"_parent\"><img src=\"https://colab.research.google.com/assets/colab-badge.svg\" alt=\"Open In Colab\"/></a>"
      ]
    },
    {
      "cell_type": "markdown",
      "source": [
        "## Debug isPrime()\n",
        "What is your preferred method? Do you like using print() or prefer *pdb*?   Since mistakes in programs will happen, the important part is that you have a debugging strategy, not which tool you use.\n",
        "\n",
        "Here is a function that needs debugging. Using either print() or *pdb*, debug the following function."
      ],
      "metadata": {
        "id": "LIfoDVzKX7uK"
      }
    },
    {
      "cell_type": "code",
      "source": [
        "def isPrime(candidate):\n",
        "    if candidate <= 1:\n",
        "        return False\n",
        "\n",
        "    lower = candidate - 1\n",
        "    while lower > 1:\n",
        "        if candidate / lower == candidate // lower:\n",
        "            return False\n",
        "        lower -= 1\n",
        "\n",
        "    return True"
      ],
      "metadata": {
        "id": "YH9gDoOYvKwg"
      },
      "execution_count": null,
      "outputs": []
    },
    {
      "cell_type": "code",
      "source": [
        "def isPrime(candidate): #help from ChatGpt\n",
        "    if candidate <= 1:\n",
        "        return False\n",
        "\n",
        "    lower = candidate - 1\n",
        "    print(\"Checking divisibility for candidate:\", candidate)\n",
        "    while lower > 1:\n",
        "        print(\"Checking lower:\", lower)\n",
        "        if candidate / lower == candidate // lower:\n",
        "            print(\"Not a prime, as\", candidate, \"is divisible by\", lower)\n",
        "            return False\n",
        "        lower -= 1\n",
        "\n",
        "    return True\n",
        "\n",
        "print(isPrime(20))\n"
      ],
      "metadata": {
        "colab": {
          "base_uri": "https://localhost:8080/"
        },
        "id": "pCn4gIpN5-Bj",
        "outputId": "5c93ddce-e3a8-4e7d-d36c-7ef433b0c0ef"
      },
      "execution_count": 6,
      "outputs": [
        {
          "output_type": "stream",
          "name": "stdout",
          "text": [
            "Checking divisibility for candidate: 20\n",
            "Checking lower: 19\n",
            "Checking lower: 18\n",
            "Checking lower: 17\n",
            "Checking lower: 16\n",
            "Checking lower: 15\n",
            "Checking lower: 14\n",
            "Checking lower: 13\n",
            "Checking lower: 12\n",
            "Checking lower: 11\n",
            "Checking lower: 10\n",
            "Not a prime, as 20 is divisible by 10\n",
            "False\n"
          ]
        }
      ]
    }
  ]
}