{
  "cells": [
    {
      "cell_type": "markdown",
      "metadata": {
        "id": "view-in-github",
        "colab_type": "text"
      },
      "source": [
        "<a href=\"https://colab.research.google.com/github/ISReyven/Reyven-/blob/main/stocks_daily_return.ipynb\" target=\"_parent\"><img src=\"https://colab.research.google.com/assets/colab-badge.svg\" alt=\"Open In Colab\"/></a>"
      ]
    },
    {
      "cell_type": "markdown",
      "id": "b5ae41e0",
      "metadata": {
        "id": "b5ae41e0"
      },
      "source": [
        "# Daily Return of Stock Data\n",
        "\n",
        "## Daily Return formula\n",
        "\n",
        "Visiting a financial website that provides stock price information. Type a company’s name or its stock’s ticker symbol.  We will use the utility *curl* to download the data, but we need a URL.  To find the URL, navigate to Yahoo finance, type in NAB.AX, click the 'Historical' tab.  towards the right is a download option.  right click on the download link and select 'Copy Link Address' form the popup menu.  No paste to the URL assignment statement.\n",
        "\n",
        "Find in the historical prices section the stock’s closing price for any two consecutive days. For example, assume a stock’s closing price was \\$36.75 yesterday and that its closing price was \\$35.50 the previous day. Subtract the previous day’s closing price from the most recent day’s closing price. In this example, subtract \\$35.50 from \\$36.75 to get \\$1.25.\n",
        "\n",
        "Now divide the results by the previous day's closing prices to calculate the daily return.  Multiply this by 100 to convert to a percentage.  So $1.25 divided by #35.50 equals 0.035.  Multiply 0.035 by 100 to 3.5 percent.\n",
        "\n",
        "    Daily return = (Today prices - Yesterday price) / Yesterday price\n",
        "\n",
        "We will look at three different methods in Python to process the file:\n",
        "* Use read() and readline() functions\n",
        "* Use CSV module\n",
        "* Use Pandas\n"
      ]
    },
    {
      "cell_type": "code",
      "execution_count": 2,
      "id": "1e11a5be",
      "metadata": {
        "id": "1e11a5be",
        "colab": {
          "base_uri": "https://localhost:8080/"
        },
        "outputId": "7f05560d-722b-419c-d1a4-9abfdeddab5a"
      },
      "outputs": [
        {
          "output_type": "stream",
          "name": "stdout",
          "text": [
            "  % Total    % Received % Xferd  Average Speed   Time    Time     Time  Current\n",
            "                                 Dload  Upload   Total   Spent    Left  Speed\n",
            "\r  0     0    0     0    0     0      0      0 --:--:-- --:--:-- --:--:--     0\r100  4541  100  4541    0     0  45954      0 --:--:-- --:--:-- --:--:-- 46336\n"
          ]
        }
      ],
      "source": [
        "# Get the data\n",
        "!curl 'https://query1.finance.yahoo.com/v7/finance/download/GOOG?period1=1704067200&period2=1711584000&interval=1d&events=history&includeAdjustedClose=true' > nab_stocks.csv"
      ]
    },
    {
      "cell_type": "markdown",
      "id": "e63f358d",
      "metadata": {
        "id": "e63f358d"
      },
      "source": [
        "## Read CSV file"
      ]
    },
    {
      "cell_type": "code",
      "execution_count": 4,
      "id": "425280cb",
      "metadata": {
        "id": "425280cb",
        "colab": {
          "base_uri": "https://localhost:8080/"
        },
        "outputId": "f71de7b8-166d-4fcf-a136-173aaa9838e5"
      },
      "outputs": [
        {
          "output_type": "stream",
          "name": "stdout",
          "text": [
            "[['2024-01-02', '139.600006', '140.615005', '137.740005', '139.559998', '139.559998', '20071900\\n2024-01-03', '138.600006', '141.089996', '138.429993', '140.360001', '140.360001', '18974300\\n2024-01-04', '139.850006', '140.634995', '138.009995', '138.039993', '138.039993', '18253300\\n2024-01-05', '138.352005', '138.809998', '136.850006', '137.389999', '137.389999', '15433200\\n2024-01-08', '138.000000', '140.639999', '137.880005', '140.529999', '140.529999', '17645300\\n2024-01-09', '140.059998', '142.800003', '139.789993', '142.559998', '142.559998', '19579700\\n2024-01-10', '142.520004', '144.524994', '142.460007', '143.800003', '143.800003', '16641900\\n2024-01-11', '144.895004', '146.660004', '142.214996', '143.669998', '143.669998', '17471100\\n2024-01-12', '144.339996', '144.740005', '143.360001', '144.240005', '144.240005', '13995200\\n2024-01-16', '143.429993', '145.839996', '143.056000', '144.080002', '144.080002', '19198900\\n2024-01-17', '142.910004', '143.410004', '140.509995', '142.889999', '142.889999', '17884500\\n2024-01-18', '143.440002', '145.585007', '143.350006', '144.990005', '144.990005', '18876800\\n2024-01-19', '146.304993', '148.039993', '145.800003', '147.970001', '147.970001', '27170900\\n2024-01-22', '148.710007', '150.014999', '147.580002', '147.710007', '147.710007', '21829200\\n2024-01-23', '147.720001', '148.860001', '147.190002', '148.679993', '148.679993', '14113600\\n2024-01-24', '150.289993', '151.570007', '149.839996', '150.350006', '150.350006', '19245000\\n2024-01-25', '151.740005', '154.759995', '151.220001', '153.639999', '153.639999', '21495100\\n2024-01-26', '152.869995', '154.110001', '152.800003', '153.789993', '153.789993', '19494500\\n2024-01-29', '153.639999', '155.199997', '152.919998', '154.839996', '154.839996', '20909300\\n2024-01-30', '154.009995', '155.039993', '152.774994', '153.050003', '153.050003', '26578900\\n2024-01-31', '145.389999', '145.589996', '141.550003', '141.800003', '141.800003', '43908600\\n2024-02-01', '143.690002', '144.619995', '142.259995', '142.710007', '142.710007', '25526900\\n2024-02-02', '140.889999', '143.880005', '138.169998', '143.539993', '143.539993', '42116900\\n2024-02-05', '144.039993', '146.669998', '143.910004', '144.929993', '144.929993', '29254400\\n2024-02-06', '145.960007', '146.740005', '144.520004', '145.410004', '145.410004', '21517700\\n2024-02-07', '146.119995', '147.000000', '145.210007', '146.679993', '146.679993', '21436100\\n2024-02-08', '146.970001', '147.610001', '146.419998', '147.220001', '147.220001', '18241300\\n2024-02-09', '147.949997', '150.695007', '147.429993', '150.220001', '150.220001', '21877700\\n2024-02-12', '149.539993', '150.589996', '148.559998', '148.729996', '148.729996', '17236100\\n2024-02-13', '146.070007', '148.039993', '145.110001', '146.369995', '146.369995', '18138500\\n2024-02-14', '147.369995', '147.830002', '145.554993', '147.139999', '147.139999', '16651800\\n2024-02-15', '144.460007', '144.759995', '141.880005', '143.940002', '143.940002', '26724300\\n2024-02-16', '144.210007', '144.479996', '141.520004', '141.759995', '141.759995', '21849700\\n2024-02-20', '140.940002', '143.328995', '140.800003', '142.199997', '142.199997', '18625600\\n2024-02-21', '142.639999', '143.979996', '141.910004', '143.839996', '143.839996', '16499600\\n2024-02-22', '146.119995', '146.199997', '144.009995', '145.320007', '145.320007', '23024700\\n2024-02-23', '144.970001', '145.955002', '144.789993', '145.289993', '145.289993', '14519400\\n2024-02-26', '143.449997', '143.839996', '138.740005', '138.750000', '138.750000', '33513000\\n2024-02-27', '139.410004', '140.490005', '138.500000', '140.100006', '140.100006', '22364000\\n2024-02-28', '139.100006', '139.279999', '136.639999', '137.429993', '137.429993', '30628700\\n2024-02-29', '138.350006', '139.949997', '137.570007', '139.779999', '139.779999', '35485000\\n2024-03-01', '139.610001', '140.000000', '137.975006', '138.080002', '138.080002', '28522000\\n2024-03-04', '136.539993', '136.630005', '132.860001', '134.199997', '134.199997', '43571500\\n2024-03-05', '132.740005', '134.020004', '131.550003', '133.779999', '133.779999', '28447600\\n2024-03-06', '134.240005', '134.740005', '131.949997', '132.559998', '132.559998', '23175200\\n2024-03-07', '133.889999', '135.820007', '132.660004', '135.240005', '135.240005', '24107300\\n2024-03-08', '135.035004', '138.985001', '134.800003', '136.289993', '136.289993', '26472400\\n2024-03-11', '137.070007', '139.979996', '137.070007', '138.940002', '138.940002', '22536400\\n2024-03-12', '138.250000', '140.279999', '138.210007', '139.619995', '139.619995', '19019700\\n2024-03-13', '140.059998', '142.190002', '140.009995', '140.770004', '140.770004', '19637000\\n2024-03-14', '142.300003', '144.729996', '141.485001', '144.339996', '144.339996', '36117900\\n2024-03-15', '143.410004', '144.339996', '141.130005', '142.169998', '142.169998', '41025900\\n2024-03-18', '149.369995', '152.929993', '148.139999', '148.479996', '148.479996', '47676700\\n2024-03-19', '148.979996', '149.619995', '147.009995', '147.919998', '147.919998', '17748400\\n2024-03-20', '148.789993', '149.759995', '147.664993', '149.679993', '149.679993', '17730000\\n2024-03-21', '150.320007', '151.304993', '148.009995', '148.740005', '148.740005', '19843900\\n2024-03-22', '150.240005', '152.559998', '150.089996', '151.770004', '151.770004', '19226300\\n2024-03-25', '150.949997', '151.455994', '148.800003', '151.149994', '151.149994', '15114700\\n2024-03-26', '151.240005', '153.199997', '151.029999', '151.699997', '151.699997', '19312700\\n2024-03-27', '152.145004', '152.690002', '150.130005', '151.940002', '151.940002', '16616200']]\n"
          ]
        }
      ],
      "source": [
        "ADJ_CLOSE = 5\n",
        "DATE = 0\n",
        "\n",
        "daily_return = []\n",
        "dates = []\n",
        "\n",
        "with  open ('/content/nab_stocks.csv') as f:\n",
        "  line = f.readline()\n",
        "  fields = line.split(',')\n",
        "  data = f.read()\n",
        "\n",
        "stocks = []\n",
        "for row in data.split('/n'):\n",
        "    values = row.split (',')\n",
        "    stocks.append(values)\n",
        "\n",
        "\n",
        "print(stocks)\n",
        "'''\n",
        "Explain in bad english the step you want to do\n",
        "\n",
        "'''\n",
        "\n"
      ]
    },
    {
      "cell_type": "markdown",
      "id": "6d1de788",
      "metadata": {
        "id": "6d1de788"
      },
      "source": [
        "## Module: CSV"
      ]
    },
    {
      "cell_type": "code",
      "execution_count": null,
      "id": "17d5e7e0",
      "metadata": {
        "id": "17d5e7e0"
      },
      "outputs": [],
      "source": [
        "import csv\n",
        "\n",
        "ADJ_CLOSE = 5\n",
        "DATE = 0\n",
        "\n",
        "daily_return = []\n",
        "dates = []\n",
        "\n",
        "with  open ('/content/nab_stocks.csv') as f:\n",
        "  reader = csv.reader(f,delimiter= ',' )\n",
        "  fields = next(reader, None)  #Get the header row\n",
        "\n",
        " second_row = next(reader, None)\n",
        " yesterday_price = float(second_row[ADJ_CLOSE])\n",
        "  for row in reader:\n",
        "\n",
        "'''\n",
        "Explain in bad english the steps\n",
        "'''\n",
        "\n"
      ]
    },
    {
      "cell_type": "markdown",
      "id": "1af66a5b",
      "metadata": {
        "id": "1af66a5b"
      },
      "source": [
        "## Module: Pandas"
      ]
    },
    {
      "cell_type": "code",
      "execution_count": 7,
      "id": "494f6466",
      "metadata": {
        "id": "494f6466",
        "colab": {
          "base_uri": "https://localhost:8080/",
          "height": 206
        },
        "outputId": "de7cb2ba-0207-451f-ed52-561071813534"
      },
      "outputs": [
        {
          "output_type": "execute_result",
          "data": {
            "text/plain": [
              "         Date        Open        High         Low       Close   Adj Close  \\\n",
              "0  2024-01-02  139.600006  140.615005  137.740005  139.559998  139.559998   \n",
              "1  2024-01-03  138.600006  141.089996  138.429993  140.360001  140.360001   \n",
              "2  2024-01-04  139.850006  140.634995  138.009995  138.039993  138.039993   \n",
              "3  2024-01-05  138.352005  138.809998  136.850006  137.389999  137.389999   \n",
              "4  2024-01-08  138.000000  140.639999  137.880005  140.529999  140.529999   \n",
              "\n",
              "     Volume  \n",
              "0  20071900  \n",
              "1  18974300  \n",
              "2  18253300  \n",
              "3  15433200  \n",
              "4  17645300  "
            ],
            "text/html": [
              "\n",
              "  <div id=\"df-2b08ec7e-7246-42a3-9738-eb6affd670bc\" class=\"colab-df-container\">\n",
              "    <div>\n",
              "<style scoped>\n",
              "    .dataframe tbody tr th:only-of-type {\n",
              "        vertical-align: middle;\n",
              "    }\n",
              "\n",
              "    .dataframe tbody tr th {\n",
              "        vertical-align: top;\n",
              "    }\n",
              "\n",
              "    .dataframe thead th {\n",
              "        text-align: right;\n",
              "    }\n",
              "</style>\n",
              "<table border=\"1\" class=\"dataframe\">\n",
              "  <thead>\n",
              "    <tr style=\"text-align: right;\">\n",
              "      <th></th>\n",
              "      <th>Date</th>\n",
              "      <th>Open</th>\n",
              "      <th>High</th>\n",
              "      <th>Low</th>\n",
              "      <th>Close</th>\n",
              "      <th>Adj Close</th>\n",
              "      <th>Volume</th>\n",
              "    </tr>\n",
              "  </thead>\n",
              "  <tbody>\n",
              "    <tr>\n",
              "      <th>0</th>\n",
              "      <td>2024-01-02</td>\n",
              "      <td>139.600006</td>\n",
              "      <td>140.615005</td>\n",
              "      <td>137.740005</td>\n",
              "      <td>139.559998</td>\n",
              "      <td>139.559998</td>\n",
              "      <td>20071900</td>\n",
              "    </tr>\n",
              "    <tr>\n",
              "      <th>1</th>\n",
              "      <td>2024-01-03</td>\n",
              "      <td>138.600006</td>\n",
              "      <td>141.089996</td>\n",
              "      <td>138.429993</td>\n",
              "      <td>140.360001</td>\n",
              "      <td>140.360001</td>\n",
              "      <td>18974300</td>\n",
              "    </tr>\n",
              "    <tr>\n",
              "      <th>2</th>\n",
              "      <td>2024-01-04</td>\n",
              "      <td>139.850006</td>\n",
              "      <td>140.634995</td>\n",
              "      <td>138.009995</td>\n",
              "      <td>138.039993</td>\n",
              "      <td>138.039993</td>\n",
              "      <td>18253300</td>\n",
              "    </tr>\n",
              "    <tr>\n",
              "      <th>3</th>\n",
              "      <td>2024-01-05</td>\n",
              "      <td>138.352005</td>\n",
              "      <td>138.809998</td>\n",
              "      <td>136.850006</td>\n",
              "      <td>137.389999</td>\n",
              "      <td>137.389999</td>\n",
              "      <td>15433200</td>\n",
              "    </tr>\n",
              "    <tr>\n",
              "      <th>4</th>\n",
              "      <td>2024-01-08</td>\n",
              "      <td>138.000000</td>\n",
              "      <td>140.639999</td>\n",
              "      <td>137.880005</td>\n",
              "      <td>140.529999</td>\n",
              "      <td>140.529999</td>\n",
              "      <td>17645300</td>\n",
              "    </tr>\n",
              "  </tbody>\n",
              "</table>\n",
              "</div>\n",
              "    <div class=\"colab-df-buttons\">\n",
              "\n",
              "  <div class=\"colab-df-container\">\n",
              "    <button class=\"colab-df-convert\" onclick=\"convertToInteractive('df-2b08ec7e-7246-42a3-9738-eb6affd670bc')\"\n",
              "            title=\"Convert this dataframe to an interactive table.\"\n",
              "            style=\"display:none;\">\n",
              "\n",
              "  <svg xmlns=\"http://www.w3.org/2000/svg\" height=\"24px\" viewBox=\"0 -960 960 960\">\n",
              "    <path d=\"M120-120v-720h720v720H120Zm60-500h600v-160H180v160Zm220 220h160v-160H400v160Zm0 220h160v-160H400v160ZM180-400h160v-160H180v160Zm440 0h160v-160H620v160ZM180-180h160v-160H180v160Zm440 0h160v-160H620v160Z\"/>\n",
              "  </svg>\n",
              "    </button>\n",
              "\n",
              "  <style>\n",
              "    .colab-df-container {\n",
              "      display:flex;\n",
              "      gap: 12px;\n",
              "    }\n",
              "\n",
              "    .colab-df-convert {\n",
              "      background-color: #E8F0FE;\n",
              "      border: none;\n",
              "      border-radius: 50%;\n",
              "      cursor: pointer;\n",
              "      display: none;\n",
              "      fill: #1967D2;\n",
              "      height: 32px;\n",
              "      padding: 0 0 0 0;\n",
              "      width: 32px;\n",
              "    }\n",
              "\n",
              "    .colab-df-convert:hover {\n",
              "      background-color: #E2EBFA;\n",
              "      box-shadow: 0px 1px 2px rgba(60, 64, 67, 0.3), 0px 1px 3px 1px rgba(60, 64, 67, 0.15);\n",
              "      fill: #174EA6;\n",
              "    }\n",
              "\n",
              "    .colab-df-buttons div {\n",
              "      margin-bottom: 4px;\n",
              "    }\n",
              "\n",
              "    [theme=dark] .colab-df-convert {\n",
              "      background-color: #3B4455;\n",
              "      fill: #D2E3FC;\n",
              "    }\n",
              "\n",
              "    [theme=dark] .colab-df-convert:hover {\n",
              "      background-color: #434B5C;\n",
              "      box-shadow: 0px 1px 3px 1px rgba(0, 0, 0, 0.15);\n",
              "      filter: drop-shadow(0px 1px 2px rgba(0, 0, 0, 0.3));\n",
              "      fill: #FFFFFF;\n",
              "    }\n",
              "  </style>\n",
              "\n",
              "    <script>\n",
              "      const buttonEl =\n",
              "        document.querySelector('#df-2b08ec7e-7246-42a3-9738-eb6affd670bc button.colab-df-convert');\n",
              "      buttonEl.style.display =\n",
              "        google.colab.kernel.accessAllowed ? 'block' : 'none';\n",
              "\n",
              "      async function convertToInteractive(key) {\n",
              "        const element = document.querySelector('#df-2b08ec7e-7246-42a3-9738-eb6affd670bc');\n",
              "        const dataTable =\n",
              "          await google.colab.kernel.invokeFunction('convertToInteractive',\n",
              "                                                    [key], {});\n",
              "        if (!dataTable) return;\n",
              "\n",
              "        const docLinkHtml = 'Like what you see? Visit the ' +\n",
              "          '<a target=\"_blank\" href=https://colab.research.google.com/notebooks/data_table.ipynb>data table notebook</a>'\n",
              "          + ' to learn more about interactive tables.';\n",
              "        element.innerHTML = '';\n",
              "        dataTable['output_type'] = 'display_data';\n",
              "        await google.colab.output.renderOutput(dataTable, element);\n",
              "        const docLink = document.createElement('div');\n",
              "        docLink.innerHTML = docLinkHtml;\n",
              "        element.appendChild(docLink);\n",
              "      }\n",
              "    </script>\n",
              "  </div>\n",
              "\n",
              "\n",
              "<div id=\"df-790d08dc-e0b8-4197-bbdc-5513c9b94736\">\n",
              "  <button class=\"colab-df-quickchart\" onclick=\"quickchart('df-790d08dc-e0b8-4197-bbdc-5513c9b94736')\"\n",
              "            title=\"Suggest charts\"\n",
              "            style=\"display:none;\">\n",
              "\n",
              "<svg xmlns=\"http://www.w3.org/2000/svg\" height=\"24px\"viewBox=\"0 0 24 24\"\n",
              "     width=\"24px\">\n",
              "    <g>\n",
              "        <path d=\"M19 3H5c-1.1 0-2 .9-2 2v14c0 1.1.9 2 2 2h14c1.1 0 2-.9 2-2V5c0-1.1-.9-2-2-2zM9 17H7v-7h2v7zm4 0h-2V7h2v10zm4 0h-2v-4h2v4z\"/>\n",
              "    </g>\n",
              "</svg>\n",
              "  </button>\n",
              "\n",
              "<style>\n",
              "  .colab-df-quickchart {\n",
              "      --bg-color: #E8F0FE;\n",
              "      --fill-color: #1967D2;\n",
              "      --hover-bg-color: #E2EBFA;\n",
              "      --hover-fill-color: #174EA6;\n",
              "      --disabled-fill-color: #AAA;\n",
              "      --disabled-bg-color: #DDD;\n",
              "  }\n",
              "\n",
              "  [theme=dark] .colab-df-quickchart {\n",
              "      --bg-color: #3B4455;\n",
              "      --fill-color: #D2E3FC;\n",
              "      --hover-bg-color: #434B5C;\n",
              "      --hover-fill-color: #FFFFFF;\n",
              "      --disabled-bg-color: #3B4455;\n",
              "      --disabled-fill-color: #666;\n",
              "  }\n",
              "\n",
              "  .colab-df-quickchart {\n",
              "    background-color: var(--bg-color);\n",
              "    border: none;\n",
              "    border-radius: 50%;\n",
              "    cursor: pointer;\n",
              "    display: none;\n",
              "    fill: var(--fill-color);\n",
              "    height: 32px;\n",
              "    padding: 0;\n",
              "    width: 32px;\n",
              "  }\n",
              "\n",
              "  .colab-df-quickchart:hover {\n",
              "    background-color: var(--hover-bg-color);\n",
              "    box-shadow: 0 1px 2px rgba(60, 64, 67, 0.3), 0 1px 3px 1px rgba(60, 64, 67, 0.15);\n",
              "    fill: var(--button-hover-fill-color);\n",
              "  }\n",
              "\n",
              "  .colab-df-quickchart-complete:disabled,\n",
              "  .colab-df-quickchart-complete:disabled:hover {\n",
              "    background-color: var(--disabled-bg-color);\n",
              "    fill: var(--disabled-fill-color);\n",
              "    box-shadow: none;\n",
              "  }\n",
              "\n",
              "  .colab-df-spinner {\n",
              "    border: 2px solid var(--fill-color);\n",
              "    border-color: transparent;\n",
              "    border-bottom-color: var(--fill-color);\n",
              "    animation:\n",
              "      spin 1s steps(1) infinite;\n",
              "  }\n",
              "\n",
              "  @keyframes spin {\n",
              "    0% {\n",
              "      border-color: transparent;\n",
              "      border-bottom-color: var(--fill-color);\n",
              "      border-left-color: var(--fill-color);\n",
              "    }\n",
              "    20% {\n",
              "      border-color: transparent;\n",
              "      border-left-color: var(--fill-color);\n",
              "      border-top-color: var(--fill-color);\n",
              "    }\n",
              "    30% {\n",
              "      border-color: transparent;\n",
              "      border-left-color: var(--fill-color);\n",
              "      border-top-color: var(--fill-color);\n",
              "      border-right-color: var(--fill-color);\n",
              "    }\n",
              "    40% {\n",
              "      border-color: transparent;\n",
              "      border-right-color: var(--fill-color);\n",
              "      border-top-color: var(--fill-color);\n",
              "    }\n",
              "    60% {\n",
              "      border-color: transparent;\n",
              "      border-right-color: var(--fill-color);\n",
              "    }\n",
              "    80% {\n",
              "      border-color: transparent;\n",
              "      border-right-color: var(--fill-color);\n",
              "      border-bottom-color: var(--fill-color);\n",
              "    }\n",
              "    90% {\n",
              "      border-color: transparent;\n",
              "      border-bottom-color: var(--fill-color);\n",
              "    }\n",
              "  }\n",
              "</style>\n",
              "\n",
              "  <script>\n",
              "    async function quickchart(key) {\n",
              "      const quickchartButtonEl =\n",
              "        document.querySelector('#' + key + ' button');\n",
              "      quickchartButtonEl.disabled = true;  // To prevent multiple clicks.\n",
              "      quickchartButtonEl.classList.add('colab-df-spinner');\n",
              "      try {\n",
              "        const charts = await google.colab.kernel.invokeFunction(\n",
              "            'suggestCharts', [key], {});\n",
              "      } catch (error) {\n",
              "        console.error('Error during call to suggestCharts:', error);\n",
              "      }\n",
              "      quickchartButtonEl.classList.remove('colab-df-spinner');\n",
              "      quickchartButtonEl.classList.add('colab-df-quickchart-complete');\n",
              "    }\n",
              "    (() => {\n",
              "      let quickchartButtonEl =\n",
              "        document.querySelector('#df-790d08dc-e0b8-4197-bbdc-5513c9b94736 button');\n",
              "      quickchartButtonEl.style.display =\n",
              "        google.colab.kernel.accessAllowed ? 'block' : 'none';\n",
              "    })();\n",
              "  </script>\n",
              "</div>\n",
              "\n",
              "    </div>\n",
              "  </div>\n"
            ],
            "application/vnd.google.colaboratory.intrinsic+json": {
              "type": "dataframe",
              "variable_name": "data",
              "summary": "{\n  \"name\": \"data\",\n  \"rows\": 60,\n  \"fields\": [\n    {\n      \"column\": \"Date\",\n      \"properties\": {\n        \"dtype\": \"object\",\n        \"num_unique_values\": 60,\n        \"samples\": [\n          \"2024-01-02\",\n          \"2024-01-09\",\n          \"2024-02-23\"\n        ],\n        \"semantic_type\": \"\",\n        \"description\": \"\"\n      }\n    },\n    {\n      \"column\": \"Open\",\n      \"properties\": {\n        \"dtype\": \"number\",\n        \"std\": 5.293677095016238,\n        \"min\": 132.740005,\n        \"max\": 154.009995,\n        \"num_unique_values\": 58,\n        \"samples\": [\n          139.600006,\n          140.059998,\n          142.639999\n        ],\n        \"semantic_type\": \"\",\n        \"description\": \"\"\n      }\n    },\n    {\n      \"column\": \"High\",\n      \"properties\": {\n        \"dtype\": \"number\",\n        \"std\": 5.26902079749304,\n        \"min\": 134.020004,\n        \"max\": 155.199997,\n        \"num_unique_values\": 59,\n        \"samples\": [\n          140.615005,\n          142.800003,\n          146.199997\n        ],\n        \"semantic_type\": \"\",\n        \"description\": \"\"\n      }\n    },\n    {\n      \"column\": \"Low\",\n      \"properties\": {\n        \"dtype\": \"number\",\n        \"std\": 5.4463714183954295,\n        \"min\": 131.550003,\n        \"max\": 152.919998,\n        \"num_unique_values\": 60,\n        \"samples\": [\n          137.740005,\n          139.789993,\n          144.789993\n        ],\n        \"semantic_type\": \"\",\n        \"description\": \"\"\n      }\n    },\n    {\n      \"column\": \"Close\",\n      \"properties\": {\n        \"dtype\": \"number\",\n        \"std\": 5.384126755114813,\n        \"min\": 132.559998,\n        \"max\": 154.839996,\n        \"num_unique_values\": 60,\n        \"samples\": [\n          139.559998,\n          142.559998,\n          145.289993\n        ],\n        \"semantic_type\": \"\",\n        \"description\": \"\"\n      }\n    },\n    {\n      \"column\": \"Adj Close\",\n      \"properties\": {\n        \"dtype\": \"number\",\n        \"std\": 5.384126755114813,\n        \"min\": 132.559998,\n        \"max\": 154.839996,\n        \"num_unique_values\": 60,\n        \"samples\": [\n          139.559998,\n          142.559998,\n          145.289993\n        ],\n        \"semantic_type\": \"\",\n        \"description\": \"\"\n      }\n    },\n    {\n      \"column\": \"Volume\",\n      \"properties\": {\n        \"dtype\": \"number\",\n        \"std\": 7993618,\n        \"min\": 13995200,\n        \"max\": 47676700,\n        \"num_unique_values\": 60,\n        \"samples\": [\n          20071900,\n          19579700,\n          14519400\n        ],\n        \"semantic_type\": \"\",\n        \"description\": \"\"\n      }\n    }\n  ]\n}"
            }
          },
          "metadata": {},
          "execution_count": 7
        }
      ],
      "source": [
        "import pandas as pd\n",
        "from matplotlib import pyplot as plt\n",
        "\n",
        "data = pd.read_csv('/content/nab_stocks.csv')\n",
        "data.head()"
      ]
    },
    {
      "cell_type": "code",
      "source": [
        "import pandas as pd\n",
        "from matplotlib import pyplot as plt\n",
        "\n",
        "data = pd.read_csv('/content/nab_stocks.csv')\n",
        "data['Daily Return'] = data ['Adj Close'] / data['Adj Close']. shift(1)-1\n",
        "\n",
        "x = data ['Date']\n",
        "y = data ['Daily Return']\n",
        "\n",
        "plt.plot(x,y)"
      ],
      "metadata": {
        "id": "LYAyrvLlilmp",
        "outputId": "eca88c50-00a9-4ef4-faf9-26f7b75327d6",
        "colab": {
          "base_uri": "https://localhost:8080/",
          "height": 447
        }
      },
      "id": "LYAyrvLlilmp",
      "execution_count": 9,
      "outputs": [
        {
          "output_type": "execute_result",
          "data": {
            "text/plain": [
              "[<matplotlib.lines.Line2D at 0x79772b2811e0>]"
            ]
          },
          "metadata": {},
          "execution_count": 9
        },
        {
          "output_type": "display_data",
          "data": {
            "text/plain": [
              "<Figure size 640x480 with 1 Axes>"
            ],
            "image/png": "[encoded data removed]"
          },
          "metadata": {}
        }
      ]
    }
  ],
  "metadata": {
    "kernelspec": {
      "display_name": "Python 3 (ipykernel)",
      "language": "python",
      "name": "python3"
    },
    "language_info": {
      "codemirror_mode": {
        "name": "ipython",
        "version": 3
      },
      "file_extension": ".py",
      "mimetype": "text/x-python",
      "name": "python",
      "nbconvert_exporter": "python",
      "pygments_lexer": "ipython3",
      "version": "3.9.6"
    },
    "colab": {
      "name": "stocks_daily_return.ipynb",
      "provenance": [],
      "include_colab_link": true
    }
  },
  "nbformat": 4,
  "nbformat_minor": 5
}