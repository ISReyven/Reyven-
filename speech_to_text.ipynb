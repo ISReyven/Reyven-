{
  "nbformat": 4,
  "nbformat_minor": 0,
  "metadata": {
    "colab": {
      "name": "speech_to_text.ipynb",
      "provenance": [],
      "include_colab_link": true
    },
    "kernelspec": {
      "name": "python3",
      "display_name": "Python 3"
    },
    "language_info": {
      "name": "python"
    }
  },
  "cells": [
    {
      "cell_type": "markdown",
      "metadata": {
        "id": "view-in-github",
        "colab_type": "text"
      },
      "source": [
        "<a href=\"https://colab.research.google.com/github/ISReyven/Reyven-/blob/main/speech_to_text.ipynb\" target=\"_parent\"><img src=\"https://colab.research.google.com/assets/colab-badge.svg\" alt=\"Open In Colab\"/></a>"
      ]
    },
    {
      "cell_type": "markdown",
      "source": [
        "# Speech to Text\n",
        "\n",
        "Part of your job is to produce a weekly summary (an intelligence report) of what is happening in your field. Sources of content include\n",
        "* Social Media\n",
        "* Webpages\n",
        "* YouTube\n",
        "* Podcasts\n",
        "* Blog posts\n",
        "* Reports\n",
        "* Articles\n",
        "\n",
        "I am sure you can think of many more. It would be great if we could write a program to create this report.\n",
        "\n",
        "There is a lot to do here. Gather the data, summarise the data and collate it into a document. How do we process video or a podcast? How can I get data from a webpage or a database? How can I summarise this data? Can I save the data as an excel spreadsheet or word document?\n",
        "\n",
        "A good strategy would be not to solve it all at once. Can we easily break it down into a few more straightforward problems? If we can solve and combine in the right way the simple issues, we should be able to solve the bigger problem. This approach of breaking a problem into subsystems is known as top-down design or programming. We look more closely at this approach in later modules.  \n",
        "\n",
        "Our general approach will be to take a source of content and convert that content into text. If needed, summarise the text and append it to our report. Then tidy up the information and submit it to our boss. Except for the last step, most of these steps can be done by a computer.\n",
        "\n",
        "Today, we will focus on how to convert an audio source into text. The audio source could be a podcast, a video or some other recording. We are going to convert speech to text. If you want to know more, have a look at [The Ultimate Guide to Speech Recognition With Python](https://realpython.com/python-speech-recognition/)\n",
        "\n",
        "## Tasks\n",
        "* Import into GitHub\n",
        "* Write a program to convert speech to text\n",
        "* regularly save to GitHub with a commit message"
      ],
      "metadata": {
        "id": "WTD7HkIDMXsH"
      }
    },
    {
      "cell_type": "code",
      "source": [
        "# Perplexity Au suggested to install this module\n",
        "!pip install SpeechRecognition\n",
        "!wget https://www.pacdv.com/sounds/voices/maybe-next-time.wav\n"
      ],
      "metadata": {
        "id": "jpmIwK03SKOr"
      },
      "execution_count": null,
      "outputs": []
    },
    {
      "cell_type": "code",
      "source": [
        "import speech_recognition as sr\n",
        "\n",
        "r = sr.Recognizer()\n",
        "\n",
        "text = None\n",
        "filename = '/content/maybe-next-time.wav'\n",
        "\n",
        "with sr.AudioFile(filename) as source:\n",
        "    audio_data = r.record(source)\n",
        "    text = r.recognize_google(audio_data)\n",
        "\n",
        "output_file = 'text_from_speech.txt'\n",
        "\n",
        "with open(output_file, 'w') as f:\n",
        "  f.write(text)"
      ],
      "metadata": {
        "id": "FRUM7ntYta9G"
      },
      "execution_count": null,
      "outputs": []
    },
    {
      "cell_type": "code",
      "source": [
        "# the comment were added by AI, see [1] for conversation\n",
        "\n",
        "\n",
        "import speech_recognition as sr\n",
        "\n",
        "# Importing the necessary module for speech recognition\n",
        "\n",
        "# Creating a Recognizer instance from the speech_recognition library\n",
        "r = sr.Recognizer()\n",
        "\n",
        "# Initializing a variable to hold the recognized text\n",
        "text = None\n",
        "\n",
        "# Specifying the filename of the audio file to be transcribed\n",
        "filename = '/content/maybe-next-time.wav'\n",
        "\n",
        "# Opening the audio file and recognizing the speech\n",
        "with sr.AudioFile(filename) as source:\n",
        "    # Reading the audio data from the source file\n",
        "    audio_data = r.record(source)\n",
        "\n",
        "    # Using Google's speech recognition service to transcribe the audio data to text\n",
        "    text = r.recognize_google(audio_data)\n",
        "\n",
        "# Defining the name of the output file where the recognized text will be written\n",
        "output_file = 'text_from_speech.txt'\n",
        "\n",
        "# Writing the recognized text to the output file\n",
        "with open(output_file, 'w') as f:\n",
        "    f.write(text)\n"
      ],
      "metadata": {
        "id": "pbmcGLxfYIYI"
      },
      "execution_count": null,
      "outputs": []
    }
  ]
}