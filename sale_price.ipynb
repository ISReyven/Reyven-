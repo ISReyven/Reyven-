{
  "nbformat": 4,
  "nbformat_minor": 0,
  "metadata": {
    "colab": {
      "name": "sale_price.ipynb",
      "provenance": [],
      "include_colab_link": true
    },
    "kernelspec": {
      "name": "python3",
      "display_name": "Python 3"
    },
    "language_info": {
      "name": "python"
    }
  },
  "cells": [
    {
      "cell_type": "markdown",
      "metadata": {
        "id": "view-in-github",
        "colab_type": "text"
      },
      "source": [
        "<a href=\"https://colab.research.google.com/github/ISReyven/Reyven-/blob/main/sale_price.ipynb\" target=\"_parent\"><img src=\"https://colab.research.google.com/assets/colab-badge.svg\" alt=\"Open In Colab\"/></a>"
      ]
    },
    {
      "cell_type": "markdown",
      "metadata": {
        "id": "cgTeiXOtSPjH"
      },
      "source": [
        "# Sales Price\n",
        "\n",
        "A local department store needs to develop a program that will compute the total price (including goods and services tax) of the item on sale when given an item's original price and discount percentage.\n",
        "\n",
        "## Tasks\n",
        "* Save to Github\n",
        "* Design Algorithm\n",
        "* Write and test the program in Python"
      ]
    },
    {
      "cell_type": "code",
      "metadata": {
        "id": "pPIN2ZcrSqdw",
        "colab": {
          "base_uri": "https://localhost:8080/",
          "height": 341
        },
        "outputId": "ea02bcd7-a3fb-48b6-d09d-584b29766731"
      },
      "source": [
        "def calculate_total_price (original_price, discount_percentage,tax_rate):\n",
        "  discount_amount = original_price * (discount_percentage / 100)\n",
        "  discount_price = original_price - discount_amount\n",
        "  tax_amount = discounted_price * (tax_rate / 100)\n",
        "  total_price = dicounted_price + tax_amount\n",
        "  return total_price\n",
        "\n",
        "def main ():\n",
        "  original_price = float(input(\"Enter the original price of the item:\"))\n",
        "  discount_percentage = float(input(\"Enter the discount percentage:\"))\n",
        "  tax_rate = float(input(\"Enter the tax rateb (in percentage):\"))\n",
        "\n",
        "total_price = calculate_total_price(original_price, discount_percentage, tax_rate)\n",
        "\n",
        "print(\"Total price (including tax) after discount: $\", format(total_price, \".2f\"))\n",
        "\n",
        "if __name__ == \"__main__\":\n",
        "  main()"
      ],
      "execution_count": 17,
      "outputs": [
        {
          "output_type": "error",
          "ename": "NameError",
          "evalue": "name 'discounted_price' is not defined",
          "traceback": [
            "\u001b[0;31m---------------------------------------------------------------------------\u001b[0m",
            "\u001b[0;31mNameError\u001b[0m                                 Traceback (most recent call last)",
            "\u001b[0;32m<ipython-input-17-0fb8fa8d57e5>\u001b[0m in \u001b[0;36m<cell line: 13>\u001b[0;34m()\u001b[0m\n\u001b[1;32m     11\u001b[0m   \u001b[0mtax_rate\u001b[0m \u001b[0;34m=\u001b[0m \u001b[0mfloat\u001b[0m\u001b[0;34m(\u001b[0m\u001b[0minput\u001b[0m\u001b[0;34m(\u001b[0m\u001b[0;34m\"Enter the tax rateb (in percentage):\"\u001b[0m\u001b[0;34m)\u001b[0m\u001b[0;34m)\u001b[0m\u001b[0;34m\u001b[0m\u001b[0;34m\u001b[0m\u001b[0m\n\u001b[1;32m     12\u001b[0m \u001b[0;34m\u001b[0m\u001b[0m\n\u001b[0;32m---> 13\u001b[0;31m \u001b[0mtotal_price\u001b[0m \u001b[0;34m=\u001b[0m \u001b[0mcalculate_total_price\u001b[0m\u001b[0;34m(\u001b[0m\u001b[0moriginal_price\u001b[0m\u001b[0;34m,\u001b[0m \u001b[0mdiscount_percentage\u001b[0m\u001b[0;34m,\u001b[0m \u001b[0mtax_rate\u001b[0m\u001b[0;34m)\u001b[0m\u001b[0;34m\u001b[0m\u001b[0;34m\u001b[0m\u001b[0m\n\u001b[0m\u001b[1;32m     14\u001b[0m \u001b[0;34m\u001b[0m\u001b[0m\n\u001b[1;32m     15\u001b[0m \u001b[0mprint\u001b[0m\u001b[0;34m(\u001b[0m\u001b[0;34m\"Total price (including tax) after discount: $\"\u001b[0m\u001b[0;34m,\u001b[0m \u001b[0mformat\u001b[0m\u001b[0;34m(\u001b[0m\u001b[0mtotal_price\u001b[0m\u001b[0;34m,\u001b[0m \u001b[0;34m\".2f\"\u001b[0m\u001b[0;34m)\u001b[0m\u001b[0;34m)\u001b[0m\u001b[0;34m\u001b[0m\u001b[0;34m\u001b[0m\u001b[0m\n",
            "\u001b[0;32m<ipython-input-17-0fb8fa8d57e5>\u001b[0m in \u001b[0;36mcalculate_total_price\u001b[0;34m(original_price, discount_percentage, tax_rate)\u001b[0m\n\u001b[1;32m      2\u001b[0m   \u001b[0mdiscount_amount\u001b[0m \u001b[0;34m=\u001b[0m \u001b[0moriginal_price\u001b[0m \u001b[0;34m*\u001b[0m \u001b[0;34m(\u001b[0m\u001b[0mdiscount_percentage\u001b[0m \u001b[0;34m/\u001b[0m \u001b[0;36m100\u001b[0m\u001b[0;34m)\u001b[0m\u001b[0;34m\u001b[0m\u001b[0;34m\u001b[0m\u001b[0m\n\u001b[1;32m      3\u001b[0m   \u001b[0mdiscount_price\u001b[0m \u001b[0;34m=\u001b[0m \u001b[0moriginal_price\u001b[0m \u001b[0;34m-\u001b[0m \u001b[0mdiscount_amount\u001b[0m\u001b[0;34m\u001b[0m\u001b[0;34m\u001b[0m\u001b[0m\n\u001b[0;32m----> 4\u001b[0;31m   \u001b[0mtax_amount\u001b[0m \u001b[0;34m=\u001b[0m \u001b[0mdiscounted_price\u001b[0m \u001b[0;34m*\u001b[0m \u001b[0;34m(\u001b[0m\u001b[0mtax_rate\u001b[0m \u001b[0;34m/\u001b[0m \u001b[0;36m100\u001b[0m\u001b[0;34m)\u001b[0m\u001b[0;34m\u001b[0m\u001b[0;34m\u001b[0m\u001b[0m\n\u001b[0m\u001b[1;32m      5\u001b[0m   \u001b[0mtotal_price\u001b[0m \u001b[0;34m=\u001b[0m \u001b[0mdicounted_price\u001b[0m \u001b[0;34m+\u001b[0m \u001b[0mtax_amount\u001b[0m\u001b[0;34m\u001b[0m\u001b[0;34m\u001b[0m\u001b[0m\n\u001b[1;32m      6\u001b[0m   \u001b[0;32mreturn\u001b[0m \u001b[0mtotal_price\u001b[0m\u001b[0;34m\u001b[0m\u001b[0;34m\u001b[0m\u001b[0m\n",
            "\u001b[0;31mNameError\u001b[0m: name 'discounted_price' is not defined"
          ]
        }
      ]
    },
    {
      "cell_type": "code",
      "source": [],
      "metadata": {
        "id": "RGTwm3fj8Sm1",
        "outputId": "17ede8d5-eeec-473b-8afd-326ce4136178",
        "colab": {
          "base_uri": "https://localhost:8080/",
          "height": 108
        }
      },
      "execution_count": 7,
      "outputs": [
        {
          "output_type": "error",
          "ename": "IndentationError",
          "evalue": "expected an indented block after function definition on line 4 (<ipython-input-7-a81c85ce06eb>, line 5)",
          "traceback": [
            "\u001b[0;36m  File \u001b[0;32m\"<ipython-input-7-a81c85ce06eb>\"\u001b[0;36m, line \u001b[0;32m5\u001b[0m\n\u001b[0;31m    discount_amount = original_price * (discount_percentage / 100)\u001b[0m\n\u001b[0m    ^\u001b[0m\n\u001b[0;31mIndentationError\u001b[0m\u001b[0;31m:\u001b[0m expected an indented block after function definition on line 4\n"
          ]
        }
      ]
    },
    {
      "cell_type": "code",
      "source": [
        "def calculate_total_price(original_price, discount_percentage, tax_rate):\n",
        "    discount_amount = original_price * (discount_percentage / 100)\n",
        "    discounted_price = original_price - discount_amount\n",
        "    tax_amount = discounted_price * (tax_rate / 100)\n",
        "    total_price = discounted_price + tax_amount\n",
        "    return total_price\n",
        "\n",
        "def main():\n",
        "    original_price = float(input(\"Enter the original price of the item: \"))\n",
        "    discount_percentage = float(input(\"Enter the discount percentage: \"))\n",
        "    tax_rate = float(input(\"Enter the tax rate (in percentage): \"))\n",
        "\n",
        "    total_price = calculate_total_price(original_price, discount_percentage, tax_rate)\n",
        "\n",
        "    print(\"Total price (including tax) after discount: $\", format(total_price, \".2f\"))\n",
        "\n",
        "if __name__ == \"__main__\":\n",
        "    main()\n"
      ],
      "metadata": {
        "id": "MCW1sxCn_Pab",
        "outputId": "a7c1d133-1629-43f6-87c7-6dce779fad6c",
        "colab": {
          "base_uri": "https://localhost:8080/"
        }
      },
      "execution_count": 18,
      "outputs": [
        {
          "output_type": "stream",
          "name": "stdout",
          "text": [
            "Enter the original price of the item: 500\n",
            "Enter the discount percentage: 40\n",
            "Enter the tax rate (in percentage): 25\n",
            "Total price (including tax) after discount: $ 375.00\n"
          ]
        }
      ]
    }
  ]
}