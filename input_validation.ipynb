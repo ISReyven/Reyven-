{
  "cells": [
    {
      "cell_type": "markdown",
      "metadata": {
        "id": "view-in-github",
        "colab_type": "text"
      },
      "source": [
        "<a href=\"https://colab.research.google.com/github/ISReyven/Reyven-/blob/main/input_validation.ipynb\" target=\"_parent\"><img src=\"https://colab.research.google.com/assets/colab-badge.svg\" alt=\"Open In Colab\"/></a>"
      ]
    },
    {
      "cell_type": "markdown",
      "id": "b5835b0c",
      "metadata": {
        "id": "b5835b0c"
      },
      "source": [
        "# Input Validation\n",
        "\n",
        "Input validation code verifies that user supplied data, such as text from the input() function, is formatted appropriately.\n",
        "\n",
        "* try/except\n",
        "* isdigit()\n",
        "* pyinputplus\n",
        "\n",
        "## try/except"
      ]
    },
    {
      "cell_type": "code",
      "execution_count": null,
      "id": "695b1f5f",
      "metadata": {
        "id": "695b1f5f",
        "colab": {
          "base_uri": "https://localhost:8080/"
        },
        "outputId": "bfd4fa19-391d-4571-c3ef-d168fd1cd84e"
      },
      "outputs": [
        {
          "output_type": "stream",
          "name": "stdout",
          "text": [
            "How old are you? ten\n",
            "Please enter a whole number\n",
            "How old are you? 10\n",
            "Your age is: 10\n"
          ]
        }
      ],
      "source": [
        "while True:\n",
        "  try:\n",
        "    age = int(input('How old are you? '))\n",
        "    break\n",
        "  except ValueError:\n",
        "    print('Please enter a whole number')\n",
        "\n",
        "print('Your age is: ' + str(age))"
      ]
    },
    {
      "cell_type": "code",
      "source": [
        "while True:\n",
        "  try:\n",
        "    age = int(input('How old are you? '))\n",
        "    break\n",
        "  except ValueError:\n",
        "    print('Please enter a whole number')\n",
        "\n",
        "print('Your age is: ' + str(age))"
      ],
      "metadata": {
        "id": "cQvBN7bFfB5k",
        "colab": {
          "base_uri": "https://localhost:8080/"
        },
        "outputId": "767fb028-f7fc-4bbd-c592-67b1de6709ab"
      },
      "id": "cQvBN7bFfB5k",
      "execution_count": 1,
      "outputs": [
        {
          "output_type": "stream",
          "name": "stdout",
          "text": [
            "How old are you? 1.5\n",
            "Please enter a whole number\n",
            "How old are you? 3.9\n",
            "Please enter a whole number\n",
            "How old are you? 5.9\n",
            "Please enter a whole number\n",
            "How old are you? 10\n",
            "Your age is: 10\n"
          ]
        }
      ]
    },
    {
      "cell_type": "markdown",
      "id": "acc7252b",
      "metadata": {
        "id": "acc7252b"
      },
      "source": [
        "## isdigit()"
      ]
    },
    {
      "cell_type": "code",
      "execution_count": null,
      "id": "5f98c241",
      "metadata": {
        "id": "5f98c241",
        "colab": {
          "base_uri": "https://localhost:8080/"
        },
        "outputId": "8ebc344e-eaeb-4f36-f19a-2578bc611e77"
      },
      "outputs": [
        {
          "output_type": "stream",
          "name": "stdout",
          "text": [
            "How old are you? ten\n",
            "You must enter a valid number\n",
            "How old are you? ten\n",
            "You must enter a valid number\n",
            "How old are you? 10\n",
            "You are 10\n"
          ]
        }
      ],
      "source": [
        "while True:\n",
        "  age = input('How old are you? ')\n",
        "  if age.isdigit():\n",
        "    break\n",
        "  else:\n",
        "    print('You must enter a valid number')\n",
        "\n",
        "print('You are ' + str(age))"
      ]
    },
    {
      "cell_type": "markdown",
      "id": "18c00dc3",
      "metadata": {
        "id": "18c00dc3"
      },
      "source": [
        "## Module: pyinputs"
      ]
    },
    {
      "cell_type": "code",
      "execution_count": 3,
      "id": "dfe1740b",
      "metadata": {
        "id": "dfe1740b",
        "colab": {
          "base_uri": "https://localhost:8080/"
        },
        "outputId": "bbd8a928-6505-4879-e069-77e8f2ae60e9"
      },
      "outputs": [
        {
          "output_type": "stream",
          "name": "stdout",
          "text": [
            "Collecting PyInputPlus\n",
            "  Downloading PyInputPlus-0.2.12.tar.gz (20 kB)\n",
            "  Installing build dependencies ... \u001b[?25l\u001b[?25hdone\n",
            "  Getting requirements to build wheel ... \u001b[?25l\u001b[?25hdone\n",
            "  Preparing metadata (pyproject.toml) ... \u001b[?25l\u001b[?25hdone\n",
            "Collecting pysimplevalidate>=0.2.7 (from PyInputPlus)\n",
            "  Downloading PySimpleValidate-0.2.12.tar.gz (22 kB)\n",
            "  Installing build dependencies ... \u001b[?25l\u001b[?25hdone\n",
            "  Getting requirements to build wheel ... \u001b[?25l\u001b[?25hdone\n",
            "  Preparing metadata (pyproject.toml) ... \u001b[?25l\u001b[?25hdone\n",
            "Collecting stdiomask>=0.0.3 (from PyInputPlus)\n",
            "  Downloading stdiomask-0.0.6.tar.gz (3.6 kB)\n",
            "  Installing build dependencies ... \u001b[?25l\u001b[?25hdone\n",
            "  Getting requirements to build wheel ... \u001b[?25l\u001b[?25hdone\n",
            "  Preparing metadata (pyproject.toml) ... \u001b[?25l\u001b[?25hdone\n",
            "Building wheels for collected packages: PyInputPlus, pysimplevalidate, stdiomask\n",
            "  Building wheel for PyInputPlus (pyproject.toml) ... \u001b[?25l\u001b[?25hdone\n",
            "  Created wheel for PyInputPlus: filename=PyInputPlus-0.2.12-py3-none-any.whl size=11296 sha256=e0ec70145b5750e1760f17b2a7cad8a16887be645e5c91c28686fcbf95954f79\n",
            "  Stored in directory: /root/.cache/pip/wheels/13/ec/a5/f780c8008b74e885aada43369ebf4d350edfd12bb5909ccb23\n",
            "  Building wheel for pysimplevalidate (pyproject.toml) ... \u001b[?25l\u001b[?25hdone\n",
            "  Created wheel for pysimplevalidate: filename=PySimpleValidate-0.2.12-py3-none-any.whl size=16176 sha256=059333cf32982b501cebd438f5e9bbca64bd041bef0700f624cd1c5990526ab4\n",
            "  Stored in directory: /root/.cache/pip/wheels/64/29/c9/2ee861e5b0775e289013b7c7157e0bdcea3a1b844f835b2eb8\n",
            "  Building wheel for stdiomask (pyproject.toml) ... \u001b[?25l\u001b[?25hdone\n",
            "  Created wheel for stdiomask: filename=stdiomask-0.0.6-py3-none-any.whl size=3306 sha256=738c3c9fa5091152ba8927d79b4ce055d8da69ca99592fcaa7ac1450a9033ed3\n",
            "  Stored in directory: /root/.cache/pip/wheels/6c/00/4b/0715696f101d7376f67a83cf3d545feb8c241eeee75b80bb6f\n",
            "Successfully built PyInputPlus pysimplevalidate stdiomask\n",
            "Installing collected packages: stdiomask, pysimplevalidate, PyInputPlus\n",
            "Successfully installed PyInputPlus-0.2.12 pysimplevalidate-0.2.12 stdiomask-0.0.6\n"
          ]
        }
      ],
      "source": [
        "!pip install PyInputPlus"
      ]
    },
    {
      "cell_type": "code",
      "source": [
        "import pyinputplus as pyip\n",
        "\n",
        "response = pyip.inputNum(\"How old are you?\")\n",
        "\n",
        "print(f'You are {age} years old')"
      ],
      "metadata": {
        "id": "OvqPitIkh379",
        "colab": {
          "base_uri": "https://localhost:8080/"
        },
        "outputId": "273c934d-304d-4529-9eab-f798a0c8eaea"
      },
      "id": "OvqPitIkh379",
      "execution_count": 5,
      "outputs": [
        {
          "output_type": "stream",
          "name": "stdout",
          "text": [
            "How old are you?ten\n",
            "'ten' is not a number.\n",
            "How old are you?twenty\n",
            "'twenty' is not a number.\n",
            "How old are you?10\n",
            "You are 10 years old\n"
          ]
        }
      ]
    },
    {
      "cell_type": "code",
      "source": [
        "dir(pyip)\n"
      ],
      "metadata": {
        "id": "BSY3chdWieP1",
        "colab": {
          "base_uri": "https://localhost:8080/"
        },
        "outputId": "673dddfb-3d59-4962-a6b3-a2bf54382cd5"
      },
      "id": "BSY3chdWieP1",
      "execution_count": null,
      "outputs": [
        {
          "output_type": "execute_result",
          "data": {
            "text/plain": [
              "['Any',\n",
              " 'Callable',\n",
              " 'Optional',\n",
              " 'Pattern',\n",
              " 'PyInputPlusException',\n",
              " 'RetryLimitException',\n",
              " 'Sequence',\n",
              " 'TimeoutException',\n",
              " 'Union',\n",
              " 'ValidationException',\n",
              " '__builtins__',\n",
              " '__cached__',\n",
              " '__doc__',\n",
              " '__file__',\n",
              " '__loader__',\n",
              " '__name__',\n",
              " '__package__',\n",
              " '__path__',\n",
              " '__spec__',\n",
              " '__version__',\n",
              " '_checkLimitAndTimeout',\n",
              " '_genericInput',\n",
              " 'absolute_import',\n",
              " 'division',\n",
              " 'functionName',\n",
              " 'inputAddress',\n",
              " 'inputBool',\n",
              " 'inputChoice',\n",
              " 'inputCustom',\n",
              " 'inputDate',\n",
              " 'inputDatetime',\n",
              " 'inputDayOfMonth',\n",
              " 'inputDayOfWeek',\n",
              " 'inputEmail',\n",
              " 'inputFilename',\n",
              " 'inputFilepath',\n",
              " 'inputFloat',\n",
              " 'inputIP',\n",
              " 'inputInt',\n",
              " 'inputMenu',\n",
              " 'inputMonth',\n",
              " 'inputName',\n",
              " 'inputNum',\n",
              " 'inputPassword',\n",
              " 'inputPhone',\n",
              " 'inputRegex',\n",
              " 'inputRegexStr',\n",
              " 'inputStr',\n",
              " 'inputTime',\n",
              " 'inputURL',\n",
              " 'inputUSState',\n",
              " 'inputYesNo',\n",
              " 'inputZip',\n",
              " 'parameters',\n",
              " 'print_function',\n",
              " 'pysv',\n",
              " 'stdiomask',\n",
              " 'time',\n",
              " 'validateAddress',\n",
              " 'validateBool',\n",
              " 'validateChoice',\n",
              " 'validateDate',\n",
              " 'validateDatetime',\n",
              " 'validateDayOfMonth',\n",
              " 'validateDayOfWeek',\n",
              " 'validateEmail',\n",
              " 'validateFilename',\n",
              " 'validateFilepath',\n",
              " 'validateFloat',\n",
              " 'validateIP',\n",
              " 'validateIPv4',\n",
              " 'validateIPv6',\n",
              " 'validateInt',\n",
              " 'validateMonth',\n",
              " 'validateName',\n",
              " 'validateNum',\n",
              " 'validatePhone',\n",
              " 'validateRegex',\n",
              " 'validateRegexStr',\n",
              " 'validateStr',\n",
              " 'validateTime',\n",
              " 'validateURL',\n",
              " 'validateUSState',\n",
              " 'validateYesNo']"
            ]
          },
          "metadata": {},
          "execution_count": 6
        }
      ]
    },
    {
      "cell_type": "code",
      "source": [],
      "metadata": {
        "id": "g-Rz50i2SxQ2"
      },
      "id": "g-Rz50i2SxQ2",
      "execution_count": null,
      "outputs": []
    }
  ],
  "metadata": {
    "kernelspec": {
      "display_name": "Python 3 (ipykernel)",
      "language": "python",
      "name": "python3"
    },
    "language_info": {
      "codemirror_mode": {
        "name": "ipython",
        "version": 3
      },
      "file_extension": ".py",
      "mimetype": "text/x-python",
      "name": "python",
      "nbconvert_exporter": "python",
      "pygments_lexer": "ipython3",
      "version": "3.9.6"
    },
    "colab": {
      "name": "input_validation.ipynb",
      "provenance": [],
      "include_colab_link": true
    }
  },
  "nbformat": 4,
  "nbformat_minor": 5
}