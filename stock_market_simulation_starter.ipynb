{
  "nbformat": 4,
  "nbformat_minor": 0,
  "metadata": {
    "colab": {
      "private_outputs": true,
      "provenance": [],
      "include_colab_link": true
    },
    "kernelspec": {
      "name": "python3",
      "display_name": "Python 3"
    },
    "language_info": {
      "name": "python"
    }
  },
  "cells": [
    {
      "cell_type": "markdown",
      "metadata": {
        "id": "view-in-github",
        "colab_type": "text"
      },
      "source": [
        "<a href=\"https://colab.research.google.com/github/ISReyven/Reyven-/blob/main/stock_market_simulation_starter.ipynb\" target=\"_parent\"><img src=\"https://colab.research.google.com/assets/colab-badge.svg\" alt=\"Open In Colab\"/></a>"
      ]
    },
    {
      "cell_type": "markdown",
      "source": [
        "\n",
        ">*The outline below is provided below is designed to guide you effectively through the simulation, analysis, and evaluation processes. Feel free to adapt this suggested structure by adding or removing sections to best communicate your findings.*\n",
        "\n",
        "## Title, Author, and Introduction\n",
        "\n",
        "This notebook serves as an interactive report to simulate and analyze the stock market. It aims to provide a deeper understanding of market dynamics, the impact of events, and potential trading strategies based on price and trends.\n",
        "\n",
        "## Simulation Overview\n",
        "\n",
        "In this section restate the purpose and what this notebook demonstrates.  Include a detailed explanation of each parameter used in the simulation with practical examples.\n",
        "\n",
        "\n",
        "## Baseline Simulation\n",
        "\n",
        "In this section we want to understand and visualise the popularity without the marketing day event event.\n",
        "\n",
        "First we need to install necessary packages."
      ],
      "metadata": {
        "id": "2ZACzFrFPglO"
      }
    },
    {
      "cell_type": "code",
      "execution_count": null,
      "metadata": {
        "id": "37NCcMfpNdQk"
      },
      "outputs": [],
      "source": [
        "!pip install git+https://github.com/teaching-repositories/simulacra.git -q"
      ]
    },
    {
      "cell_type": "markdown",
      "source": [
        "We need to\n",
        "  - **Import the necessary libraries**: Code cells to import libraries (like `matplotlib` for plotting and any other libraries needed).\n",
        "  - **Run the Simulation**: Code to run the simulation with zero marketing  impact.\n",
        "  - **Visuale the Results**: Plotting demand over time to establish a baseline."
      ],
      "metadata": {
        "id": "-5WD251nOeSu"
      }
    },
    {
      "cell_type": "code",
      "source": [
        "from simulacra.stock_market_simulation import StockMarketSimulation\n",
        "import matplotlib.pyplot as plt\n",
        "\n",
        "# Write a helper function\n",
        "def plot_prices(prices, event_day=None):\n",
        "    \"\"\"\n",
        "    Plots the stock prices from a simulation with an optional vertical line marking a major market event.\n",
        "\n",
        "    Parameters:\n",
        "        prices (List[float]): A list of stock prices to be plotted.\n",
        "        event_day (Optional[int]): The day on which the major market event occurs (defaults to None).\n",
        "\n",
        "    Returns:\n",
        "        None\n",
        "    \"\"\"\n",
        "    plt.figure(figsize=(10, 6))\n",
        "    plt.plot(prices, label='Stock Price')\n",
        "    if event_day is not None:\n",
        "        plt.axvline(x=event_day, color='red', linestyle='--', label='Major Market Event')\n",
        "    plt.xlabel('Days')\n",
        "    plt.ylabel('Price ($)')\n",
        "    plt.title('Stock Market Simulation')\n",
        "    plt.legend()\n",
        "    plt.show()\n",
        "\n",
        "# Create the simulation\n",
        "sim = StockMarketSimulation(start_price=100, days=365, volatility=0.03,\n",
        "                                drift=-0.001, event_day=100, event_impact=-0.2,random_seed=42)\n",
        "\n",
        "# Run the simulation\n",
        "prices = sim.run_simulation()\n",
        "\n",
        "# Visualise the results\n",
        "plot_prices(prices, sim.event_day)"
      ],
      "metadata": {
        "id": "f1g6Dwp9N4Im"
      },
      "execution_count": null,
      "outputs": []
    },
    {
      "cell_type": "markdown",
      "source": [
        "The resolution after the market event is a negative event because it decreases the prices"
      ],
      "metadata": {
        "id": "FaUJipYoafXd"
      }
    },
    {
      "cell_type": "code",
      "source": [
        "type(prices)"
      ],
      "metadata": {
        "id": "S79RnWSYD4Co"
      },
      "execution_count": null,
      "outputs": []
    },
    {
      "cell_type": "code",
      "source": [
        "#@ prices\n",
        "prices\n"
      ],
      "metadata": {
        "id": "UaOfG3GyH3P7"
      },
      "execution_count": null,
      "outputs": []
    },
    {
      "cell_type": "code",
      "source": [
        "prices_stocks= [100,\n",
        " 100.17205705154304,\n",
        " 101.62058804173323,\n",
        " 105.21925127922044,\n",
        " 99.39973192742266,\n",
        " 105.26782302226403,\n",
        " 101.57060249429935,\n",
        " 98.56677345984932,\n",
        " 103.12428623667952,\n",
        " 103.05069244942155,\n",
        " 103.22792009484753,\n",
        " 96.20160175936243,\n",
        " 90.59643087725246,\n",
        " 93.70926107302094,\n",
        " 90.51636983896118,\n",
        " 89.84683928849677,\n",
        " 87.57171089422982,\n",
        " 87.80342998691155,\n",
        " 84.42592520555834,\n",
        " 81.67766809875302,\n",
        " 80.11512439466158,\n",
        " 77.6634790247783,\n",
        " 72.4277031243632,\n",
        " 78.5570042169849,\n",
        " 79.50224852783282,\n",
        " 77.26572716767373,\n",
        " 76.6334499704036,\n",
        " 77.05913735285517,\n",
        " 74.44340551726586,\n",
        " 74.86243270225587,\n",
        " 71.1864556491925,\n",
        " 72.53847945600444,\n",
        " 72.45127525023796,\n",
        " 75.94163495083716,\n",
        " 76.82343301002268,\n",
        " 76.16065129034217,\n",
        " 77.35903174183754,\n",
        " 76.43072051386375,\n",
        " 72.12765269642398,\n",
        " 70.87952649146155,\n",
        " 72.92642207639302,\n",
        " 71.49759210060947,\n",
        " 69.97060600162847,\n",
        " 71.84730330549624,\n",
        " 72.09012941244417,\n",
        " 73.35571721731438,\n",
        " 76.48289436738149,\n",
        " 76.69076058938754,\n",
        " 78.1119921558058,\n",
        " 80.29990904659873,\n",
        " 79.57436071208934,\n",
        " 80.2086199108783,\n",
        " 80.23165717935072,\n",
        " 82.2345715811991,\n",
        " 86.64710889683114,\n",
        " 90.24180002011605,\n",
        " 92.17426516766008,\n",
        " 88.79896209120031,\n",
        " 84.9138232907343,\n",
        " 85.02275624865834,\n",
        " 85.71976679446026,\n",
        " 81.5874721854683,\n",
        " 83.25001797398507,\n",
        " 83.50141107293494,\n",
        " 82.89922981825009,\n",
        " 84.78650164430084,\n",
        " 85.72298395082005,\n",
        " 84.3507608723884,\n",
        " 79.95079441751044,\n",
        " 81.44771708732114,\n",
        " 79.07198818553826,\n",
        " 81.85759265011693,\n",
        " 85.46955922096403,\n",
        " 83.09635385257047,\n",
        " 80.67908455144988,\n",
        " 80.7127867099977,\n",
        " 79.51989390726443,\n",
        " 78.21568411255159,\n",
        " 81.19762100689933,\n",
        " 82.42215011072936,\n",
        " 78.97084268761253,\n",
        " 80.33449168346031,\n",
        " 82.18229770650933,\n",
        " 82.93824590381199,\n",
        " 84.72607817920104,\n",
        " 86.72754753539212,\n",
        " 84.24009885983075,\n",
        " 84.28124698608674,\n",
        " 85.54218438027023,\n",
        " 84.23402906838685,\n",
        " 85.74522785803832,\n",
        " 89.84341572655836,\n",
        " 90.94565249764358,\n",
        " 84.9969217528236,\n",
        " 85.8681303276574,\n",
        " 86.81615623286497,\n",
        " 90.56611264447596,\n",
        " 94.66477238655445,\n",
        " 90.26045243024613,\n",
        " 96.18672869802158,\n",
        " 76.94938295841727,\n",
        " 76.6080818622728,\n",
        " 79.19347716232618,\n",
        " 77.55366073373965,\n",
        " 74.81033228077972,\n",
        " 78.00774906784356,\n",
        " 76.268002754284,\n",
        " 74.44600080058642,\n",
        " 77.20444920191942,\n",
        " 75.93225929654967,\n",
        " 75.1589918458016,\n",
        " 76.15380193005876,\n",
        " 73.90495484033481,\n",
        " 78.00699730585602,\n",
        " 75.37909861605733,\n",
        " 73.75104930001015,\n",
        " 75.1057389120514,\n",
        " 74.51842411454176,\n",
        " 74.36604093322731,\n",
        " 73.62220881416337,\n",
        " 67.30167398679116,\n",
        " 65.0442340893918,\n",
        " 68.12291979511646,\n",
        " 71.81997766081942,\n",
        " 69.89273246055124,\n",
        " 69.71205330192987,\n",
        " 71.17295577019007,\n",
        " 72.77817353842018,\n",
        " 77.65551914707954,\n",
        " 72.97209810834198,\n",
        " 74.410423055798,\n",
        " 72.15152400232458,\n",
        " 73.51631842265728,\n",
        " 75.19199079805689,\n",
        " 75.48256715391521,\n",
        " 75.63495938928311,\n",
        " 76.950424128804,\n",
        " 73.64267705246927,\n",
        " 76.87545411288518,\n",
        " 81.77664222037676,\n",
        " 82.99977299130427,\n",
        " 83.46381586685393,\n",
        " 82.02209268764592,\n",
        " 83.30732633619881,\n",
        " 86.84318248432793,\n",
        " 87.21385617921383,\n",
        " 85.94971624039539,\n",
        " 80.85584272437968,\n",
        " 80.10174573699122,\n",
        " 84.73823228126425,\n",
        " 83.3365596024046,\n",
        " 85.52584324234515,\n",
        " 84.75225406874162,\n",
        " 82.81538425555594,\n",
        " 82.97025404348906,\n",
        " 84.26088547470435,\n",
        " 86.14503524140169,\n",
        " 88.53511600738084,\n",
        " 90.84708968636497,\n",
        " 94.09351692426817,\n",
        " 98.10308537844,\n",
        " 99.977993605016,\n",
        " 97.27890964140441,\n",
        " 97.29940845135991,\n",
        " 97.76302605498356,\n",
        " 102.36840069650842,\n",
        " 107.38266102908835,\n",
        " 110.55281921542415,\n",
        " 104.06644020445913,\n",
        " 109.69686623755432,\n",
        " 115.75918557539455,\n",
        " 117.59914550655573,\n",
        " 117.97123471416029,\n",
        " 115.064053161512,\n",
        " 114.33544129317247,\n",
        " 109.94791530080757,\n",
        " 112.50712989689181,\n",
        " 115.12317586536129,\n",
        " 117.63990150123342,\n",
        " 123.97680954254783,\n",
        " 124.28419428376074,\n",
        " 125.003202006027,\n",
        " 127.92570875876322,\n",
        " 126.58895601962689,\n",
        " 122.17005041315889,\n",
        " 117.30024158412259,\n",
        " 119.41269107786357,\n",
        " 115.03671351321127,\n",
        " 118.55762066184364,\n",
        " 115.86129048084315,\n",
        " 121.74680359551142,\n",
        " 125.98173435107988,\n",
        " 132.23402675507873,\n",
        " 130.3940266753741,\n",
        " 133.95033827971125,\n",
        " 132.7946944465345,\n",
        " 129.29235250882658,\n",
        " 132.0341263437344,\n",
        " 137.54360885788805,\n",
        " 132.95661712268912,\n",
        " 135.74135735592776,\n",
        " 138.090938433664,\n",
        " 139.95387541306823,\n",
        " 143.0700420911983,\n",
        " 150.9602698876848,\n",
        " 148.13599665041795,\n",
        " 149.15330355925263,\n",
        " 144.41339524337937,\n",
        " 139.67261145289507,\n",
        " 138.18550167920125,\n",
        " 136.90236183568078,\n",
        " 139.46341779276574,\n",
        " 135.2074117623992,\n",
        " 132.12384870845003,\n",
        " 132.01295450498418,\n",
        " 133.4068430110321,\n",
        " 140.27211579480718,\n",
        " 144.4663647675391,\n",
        " 135.17675559753783,\n",
        " 129.57328643532875,\n",
        " 130.655604787399,\n",
        " 131.7849799452406,\n",
        " 133.5023802032916,\n",
        " 130.82385645554166,\n",
        " 129.21970155101684,\n",
        " 129.690889635972,\n",
        " 129.64230452419324,\n",
        " 131.31760363754753,\n",
        " 134.11757840106645,\n",
        " 138.08611887576924,\n",
        " 138.41753220970637,\n",
        " 137.02541196435536,\n",
        " 133.34819211454825,\n",
        " 142.5893259136074,\n",
        " 144.58727075904827,\n",
        " 139.1171863525259,\n",
        " 137.68241710075617,\n",
        " 137.45942743099405,\n",
        " 127.46393189643315,\n",
        " 126.07130500090263,\n",
        " 126.66281904742937,\n",
        " 120.41816252066926,\n",
        " 111.12905601553192,\n",
        " 113.55791702074006,\n",
        " 109.05463723996155,\n",
        " 110.21576105354883,\n",
        " 105.4554937017144,\n",
        " 106.62974848267193,\n",
        " 105.90308478661355,\n",
        " 108.13620278087181,\n",
        " 113.26910929695771,\n",
        " 113.95686027507621,\n",
        " 118.17591490155795,\n",
        " 112.67042321706658,\n",
        " 115.49369959511017,\n",
        " 112.44719570537347,\n",
        " 111.9377938590004,\n",
        " 113.35096648001434,\n",
        " 114.64622227172768,\n",
        " 115.62098053615469,\n",
        " 117.94510939569331,\n",
        " 120.77924939704559,\n",
        " 118.53052232793341,\n",
        " 113.57634336424579,\n",
        " 110.61129140141627,\n",
        " 108.39564874354058,\n",
        " 110.20747905021642,\n",
        " 112.35740296041851,\n",
        " 112.65796383558745,\n",
        " 110.76753949896771,\n",
        " 112.08849290866735,\n",
        " 113.46096795633166,\n",
        " 117.92946685796502,\n",
        " 114.15622956411366,\n",
        " 111.60280039275227,\n",
        " 112.6678689960206,\n",
        " 118.60142765065692,\n",
        " 121.76225678742938,\n",
        " 119.37809095101076,\n",
        " 119.52325140815613,\n",
        " 115.26939458601306,\n",
        " 114.65376006551995,\n",
        " 122.94421341843935,\n",
        " 121.10126602073925,\n",
        " 118.8560174404257,\n",
        " 123.9679417576115,\n",
        " 117.57402660072718,\n",
        " 117.68450362915527,\n",
        " 119.98258659494599,\n",
        " 124.21366884757852,\n",
        " 132.25633223690573,\n",
        " 137.98600641345394,\n",
        " 139.99825509262973,\n",
        " 132.7453154388373,\n",
        " 132.9106250631088,\n",
        " 134.40468314501004,\n",
        " 130.06677199559763,\n",
        " 129.8124856487965,\n",
        " 129.70344673261818,\n",
        " 132.85281458025955,\n",
        " 133.7505526566038,\n",
        " 130.2205110100759,\n",
        " 132.03509790484424,\n",
        " 130.16594516389864,\n",
        " 128.09980710591554,\n",
        " 124.60041195787177,\n",
        " 123.1716816739931,\n",
        " 116.41828527618517,\n",
        " 118.04433654856044,\n",
        " 120.11928068854779,\n",
        " 115.76057660933239,\n",
        " 109.46981488774956,\n",
        " 107.95737872157267,\n",
        " 107.98904300705915,\n",
        " 106.0554492163983,\n",
        " 107.40780436705924,\n",
        " 106.57672535403461,\n",
        " 105.5841408970253,\n",
        " 103.64657763324657,\n",
        " 105.72634877730017,\n",
        " 105.97189208066641,\n",
        " 104.35437506483818,\n",
        " 105.27916607293737,\n",
        " 106.79164092868722,\n",
        " 100.97474908539776,\n",
        " 97.60473222236156,\n",
        " 100.86602024406272,\n",
        " 104.09640441199544,\n",
        " 106.43872537664528,\n",
        " 103.0189503185995,\n",
        " 107.98650794759043,\n",
        " 112.4546043061231,\n",
        " 113.5039310170907,\n",
        " 111.83349436446224,\n",
        " 106.40123060584745,\n",
        " 107.19177179774948,\n",
        " 103.05162736388559,\n",
        " 102.17868395689874,\n",
        " 102.19286568691456,\n",
        " 105.72315624833972,\n",
        " 109.15482488984303,\n",
        " 107.96126412300218,\n",
        " 105.50337575697529,\n",
        " 103.97954087133111,\n",
        " 96.26199295861622,\n",
        " 95.48448714320996,\n",
        " 95.28995459102478,\n",
        " 96.15947877833932,\n",
        " 92.97609325671343,\n",
        " 91.25922969067388,\n",
        " 91.47164589306338,\n",
        " 92.3948770568832,\n",
        " 87.65531639694123,\n",
        " 84.79082172857004,\n",
        " 82.22749144586294,\n",
        " 81.53449040862667,\n",
        " 81.29455009044553,\n",
        " 82.11608696048067,\n",
        " 82.60730462419505,\n",
        " 82.01298114247766,\n",
        " 81.66297126283882,\n",
        " 76.82585639564094,\n",
        " 74.02252208280905,\n",
        " 73.40778988363081,\n",
        " 73.10635379285692]"
      ],
      "metadata": {
        "id": "A-_YQBE_H6gR"
      },
      "execution_count": null,
      "outputs": []
    },
    {
      "cell_type": "code",
      "source": [
        "prices_stocks"
      ],
      "metadata": {
        "id": "M1fAXGWzIK3A"
      },
      "execution_count": null,
      "outputs": []
    },
    {
      "cell_type": "code",
      "source": [
        "# After the data in order to analyse the data i would need to find out what the statistical values\n",
        "#such as the mean, average and the standard deviation\n",
        "\n",
        "# i asked chat gpt to visualise the output from the data for the mean and standard deviation"
      ],
      "metadata": {
        "id": "58_iX5pBIRI9"
      },
      "execution_count": null,
      "outputs": []
    },
    {
      "cell_type": "markdown",
      "source": [
        "After the data in order to analyse the data i would need to find out what the statis"
      ],
      "metadata": {
        "id": "QIi7h3UyhlaY"
      }
    },
    {
      "cell_type": "markdown",
      "source": [
        "## Investigate How Volatility Affects Stock Price Stability\n",
        "\n",
        "In thisa section begin by analysing how different levels of volatility impact the stability of stock prices and the potential for investment gains or losses. Discuss the observed trends and implications.\n",
        "\n"
      ],
      "metadata": {
        "id": "Ec9uL2_UO6nP"
      }
    },
    {
      "cell_type": "code",
      "source": [
        "# Code to investigate volatility goes here"
      ],
      "metadata": {
        "id": "3wdp7N4-O9FJ"
      },
      "execution_count": null,
      "outputs": []
    },
    {
      "cell_type": "markdown",
      "source": [
        "## Simulate a Major Market Event and Analyse Its Impact\n",
        "\n",
        "In this section, set up scenarios where a significant market event affects stock prices on a specific day. Adjust the impact of these events to observe varying outcomes. Discuss the observed trends and implications."
      ],
      "metadata": {
        "id": "ouYX5NXFPRVc"
      }
    },
    {
      "cell_type": "code",
      "source": [
        "# Code to assess the impact of a market event"
      ],
      "metadata": {
        "id": "6SXNet1SPbeT"
      },
      "execution_count": null,
      "outputs": []
    },
    {
      "cell_type": "markdown",
      "source": [
        "## (Optional) Develop and Test Trading Strategies\n",
        "\n",
        "In this section, explore basic trading strategies such as \"buy and hold\", \"moving average crossover\", or \"momentum-based\" strategies. Implement these strategies in your simulation to test their effectiveness over time. Discuss the observed trends and implications."
      ],
      "metadata": {
        "id": "UMbo3KNDPcBe"
      }
    },
    {
      "cell_type": "code",
      "source": [
        "#look at some youtube videos use their idea. use the data given instead"
      ],
      "metadata": {
        "id": "ZnW0zSgOUedA"
      },
      "execution_count": null,
      "outputs": []
    },
    {
      "cell_type": "code",
      "source": [
        "# Code to test trading strategies."
      ],
      "metadata": {
        "id": "WS5HweX2PoNi"
      },
      "execution_count": null,
      "outputs": []
    },
    {
      "cell_type": "markdown",
      "source": [
        "## Conclusions\n",
        "Summarise the insights gained from the simulations, implications for businesses, and potential strategies for managing pricing price flucations in volatile markets.\n",
        "\n",
        "## Challenges and Further Research\n",
        "Discuss any limitations encountered during the simulations and suggest areas for further exploration or improvement in future studies.\n",
        "\n",
        "## References and Additional Resources\n",
        "Any sources used for data or concepts."
      ],
      "metadata": {
        "id": "NBJcxhg1P4ui"
      }
    }
  ]
}