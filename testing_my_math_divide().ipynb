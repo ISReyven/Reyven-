{
  "nbformat": 4,
  "nbformat_minor": 0,
  "metadata": {
    "colab": {
      "name": "testing_my_math.divide().ipynb",
      "provenance": [],
      "include_colab_link": true
    },
    "kernelspec": {
      "name": "python3",
      "display_name": "Python 3"
    },
    "language_info": {
      "name": "python"
    }
  },
  "cells": [
    {
      "cell_type": "markdown",
      "metadata": {
        "id": "view-in-github",
        "colab_type": "text"
      },
      "source": [
        "<a href=\"https://colab.research.google.com/github/ISReyven/Reyven-/blob/main/testing_my_math_divide().ipynb\" target=\"_parent\"><img src=\"https://colab.research.google.com/assets/colab-badge.svg\" alt=\"Open In Colab\"/></a>"
      ]
    },
    {
      "cell_type": "markdown",
      "source": [
        "## Testing  my_math.divide()\n",
        "\n",
        "What is your preferred testing strategy? Do you like using the assert statement or prefer doctest?  \n",
        "\n",
        "Using your preferred testing strategy, develop a test table and test the following funciton.  Where required update the function so all test behave as expected.\n",
        "\n",
        "\n",
        "## Function to test"
      ],
      "metadata": {
        "id": "LIfoDVzKX7uK"
      }
    },
    {
      "cell_type": "code",
      "source": [
        "def divide(x, y):\n",
        "    '''Divide first by second number'''\n",
        "    return x / y"
      ],
      "metadata": {
        "id": "YH9gDoOYvKwg"
      },
      "execution_count": null,
      "outputs": []
    },
    {
      "cell_type": "markdown",
      "source": [
        "## Test Table\n",
        "\n",
        "List you test cases here."
      ],
      "metadata": {
        "id": "JYSZ-53nLF6n"
      }
    },
    {
      "cell_type": "code",
      "source": [
        "#This is with the help of ChatGpt\n",
        "import doctest\n",
        "\n",
        "def isNumber(x):\n",
        "    return isinstance(x, (int, float))\n",
        "\n",
        "def divide(x, y):\n",
        "    \"\"\"\n",
        "    Divide first by second number.\n",
        "\n",
        "    >>> divide(0, 0)\n",
        "    'not a number'\n",
        "    >>> divide(1, 1)\n",
        "    1.0\n",
        "    >>> divide(-1, -1)\n",
        "    1.0\n",
        "    >>> divide(1.1, 1.1)\n",
        "    1.0\n",
        "    >>> divide('0', '0')\n",
        "    'not a number'\n",
        "    \"\"\"\n",
        "    if not (isNumber(x) and isNumber(y)):\n",
        "        return 'not a number'\n",
        "    if y == 0:  #Just need to add this because when the results return into zero it does not know what to do.\n",
        "        return 'not a number'\n",
        "    return float(x) / float(y)\n",
        "\n",
        "doctest.testmod()\n"
      ],
      "metadata": {
        "id": "TrR_cW-u37h6",
        "outputId": "ea35d9d6-662f-497f-814d-0d0a01fcb578",
        "colab": {
          "base_uri": "https://localhost:8080/"
        }
      },
      "execution_count": 17,
      "outputs": [
        {
          "output_type": "execute_result",
          "data": {
            "text/plain": [
              "TestResults(failed=0, attempted=5)"
            ]
          },
          "metadata": {},
          "execution_count": 17
        }
      ]
    },
    {
      "cell_type": "code",
      "source": [
        "#this is just the test\n",
        "import doctest\n",
        "def isNumber(x):\n",
        "  return (type(x) == int or type(x) == float)\n",
        "\n",
        "def divide (x,y):\n",
        "  ''' Add two numbers\n",
        "  >>> divide (0,0)\n",
        "  0\n",
        "  >>> divide (1,1)\n",
        "  1\n",
        "  >>> divide (-1,-1)\n",
        "  -1\n",
        "  >>> divide (1.1,1.1)\n",
        "  1.1\n",
        "  >>> divide('0','0')\n",
        "  'not a number'\n",
        "  '''\n",
        "  if isNumber(x) and isNumber(y):\n",
        "    return x/y\n",
        "  return 'not a number'\n",
        "doctest.testmod()\n",
        ""
      ],
      "metadata": {
        "id": "PG8UbAbn0iBx",
        "outputId": "add9c1c2-1d79-473f-aadc-e29a36f41877",
        "colab": {
          "base_uri": "https://localhost:8080/"
        }
      },
      "execution_count": 4,
      "outputs": [
        {
          "output_type": "stream",
          "name": "stdout",
          "text": [
            "**********************************************************************\n",
            "File \"__main__\", line 7, in __main__.divide\n",
            "Failed example:\n",
            "    divide (0,0)\n",
            "Exception raised:\n",
            "    Traceback (most recent call last):\n",
            "      File \"/usr/lib/python3.10/doctest.py\", line 1350, in __run\n",
            "        exec(compile(example.source, filename, \"single\",\n",
            "      File \"<doctest __main__.divide[0]>\", line 1, in <module>\n",
            "        divide (0,0)\n",
            "      File \"<ipython-input-4-a2ee65ea3bde>\", line 19, in divide\n",
            "        return x/y\n",
            "    ZeroDivisionError: division by zero\n",
            "**********************************************************************\n",
            "File \"__main__\", line 9, in __main__.divide\n",
            "Failed example:\n",
            "    divide (1,1)\n",
            "Expected:\n",
            "    1\n",
            "Got:\n",
            "    1.0\n",
            "**********************************************************************\n",
            "File \"__main__\", line 11, in __main__.divide\n",
            "Failed example:\n",
            "    divide (-1,-1)\n",
            "Expected:\n",
            "    -1\n",
            "Got:\n",
            "    1.0\n",
            "**********************************************************************\n",
            "File \"__main__\", line 13, in __main__.divide\n",
            "Failed example:\n",
            "    divide (1.1,1.1)\n",
            "Expected:\n",
            "    1.1\n",
            "Got:\n",
            "    1.0\n",
            "**********************************************************************\n",
            "1 items had failures:\n",
            "   4 of   5 in __main__.divide\n",
            "***Test Failed*** 4 failures.\n"
          ]
        },
        {
          "output_type": "execute_result",
          "data": {
            "text/plain": [
              "TestResults(failed=4, attempted=5)"
            ]
          },
          "metadata": {},
          "execution_count": 4
        }
      ]
    },
    {
      "cell_type": "code",
      "source": [
        "#this is the real answers\n",
        "import doctest\n",
        "def isNumber(x):\n",
        "  return (type(x) == int or type(x) == float)\n",
        "\n",
        "\n",
        "def divide(x, y):\n",
        "    \"\"\"\n",
        "    Divide first by second number.\n",
        "\n",
        "    >>> divide(0, 0)\n",
        "    'not a number'\n",
        "    >>> divide(1, 1)\n",
        "    1.0\n",
        "    >>> divide(-1, -1)\n",
        "    1.0\n",
        "    >>> divide(1.1, 1.1)\n",
        "    1.0\n",
        "    >>> divide('0', '0')\n",
        "    'not a number'\n",
        "    \"\"\"\n",
        "    if isNumber(x) and isNumber(y):\n",
        "        return x / y\n",
        "    return 'not a number'\n",
        "\n",
        "doctest.testmod()"
      ],
      "metadata": {
        "id": "OKS0KyFg1bZP",
        "outputId": "6ccf891e-7438-48f2-da77-8c7234847c97",
        "colab": {
          "base_uri": "https://localhost:8080/"
        }
      },
      "execution_count": 14,
      "outputs": [
        {
          "output_type": "stream",
          "name": "stdout",
          "text": [
            "**********************************************************************\n",
            "File \"__main__\", line 11, in __main__.divide\n",
            "Failed example:\n",
            "    divide(0, 0)\n",
            "Exception raised:\n",
            "    Traceback (most recent call last):\n",
            "      File \"/usr/lib/python3.10/doctest.py\", line 1350, in __run\n",
            "        exec(compile(example.source, filename, \"single\",\n",
            "      File \"<doctest __main__.divide[0]>\", line 1, in <module>\n",
            "        divide(0, 0)\n",
            "      File \"<ipython-input-14-1ccfcfb7d015>\", line 23, in divide\n",
            "        return x / y\n",
            "    ZeroDivisionError: division by zero\n",
            "**********************************************************************\n",
            "1 items had failures:\n",
            "   1 of   5 in __main__.divide\n",
            "***Test Failed*** 1 failures.\n"
          ]
        },
        {
          "output_type": "execute_result",
          "data": {
            "text/plain": [
              "TestResults(failed=1, attempted=5)"
            ]
          },
          "metadata": {},
          "execution_count": 14
        }
      ]
    },
    {
      "cell_type": "code",
      "source": [],
      "metadata": {
        "id": "8DF2p_Xl3F80",
        "outputId": "92a50342-5d81-4208-83d1-4be49e7efdef",
        "colab": {
          "base_uri": "https://localhost:8080/"
        }
      },
      "execution_count": 16,
      "outputs": [
        {
          "output_type": "execute_result",
          "data": {
            "text/plain": [
              "TestResults(failed=0, attempted=5)"
            ]
          },
          "metadata": {},
          "execution_count": 16
        }
      ]
    },
    {
      "cell_type": "code",
      "source": [],
      "metadata": {
        "id": "DMTITEmbLE_Z"
      },
      "execution_count": null,
      "outputs": []
    }
  ]
}